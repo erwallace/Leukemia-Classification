{
 "cells": [
  {
   "cell_type": "code",
   "execution_count": 314,
   "outputs": [
    {
     "name": "stdout",
     "output_type": "stream",
     "text": [
      "Package                   Version\n",
      "------------------------- ---------------\n",
      "anyio                     4.3.0\n",
      "argon2-cffi               23.1.0\n",
      "argon2-cffi-bindings      21.2.0\n",
      "arrow                     1.3.0\n",
      "asttokens                 2.4.1\n",
      "attrs                     23.2.0\n",
      "beautifulsoup4            4.12.3\n",
      "bleach                    6.1.0\n",
      "cached-property           1.5.2\n",
      "certifi                   2024.2.2\n",
      "cffi                      1.16.0\n",
      "click                     8.1.7\n",
      "colorama                  0.4.6\n",
      "comm                      0.2.1\n",
      "contourpy                 1.2.0\n",
      "cycler                    0.12.1\n",
      "debugpy                   1.8.1\n",
      "decorator                 5.1.1\n",
      "defusedxml                0.7.1\n",
      "entrypoints               0.4\n",
      "exceptiongroup            1.2.0\n",
      "executing                 2.0.1\n",
      "fastjsonschema            2.19.1\n",
      "fonttools                 4.49.0\n",
      "fqdn                      1.5.1\n",
      "idna                      3.6\n",
      "importlib-metadata        7.0.1\n",
      "importlib-resources       6.1.1\n",
      "ipykernel                 6.29.2\n",
      "ipython                   8.18.1\n",
      "ipython-genutils          0.2.0\n",
      "ipywidgets                8.1.2\n",
      "isoduration               20.11.0\n",
      "jedi                      0.19.1\n",
      "Jinja2                    3.1.3\n",
      "joblib                    1.3.2\n",
      "jsonpointer               2.4\n",
      "jsonschema                4.21.1\n",
      "jsonschema-specifications 2023.12.1\n",
      "jupyter                   1.0.0\n",
      "jupyter_client            8.6.0\n",
      "jupyter-console           6.6.3\n",
      "jupyter_core              5.7.1\n",
      "jupyter-events            0.9.0\n",
      "jupyter_server            2.12.5\n",
      "jupyter_server_terminals  0.5.2\n",
      "jupyterlab_pygments       0.3.0\n",
      "jupyterlab_widgets        3.0.10\n",
      "kiwisolver                1.4.5\n",
      "lazypredict               0.2.12\n",
      "lightgbm                  4.4.0\n",
      "MarkupSafe                2.1.5\n",
      "matplotlib                3.8.3\n",
      "matplotlib-inline         0.1.6\n",
      "mistune                   3.0.2\n",
      "munkres                   1.1.4\n",
      "nbclassic                 1.0.0\n",
      "nbclient                  0.8.0\n",
      "nbconvert                 7.16.1\n",
      "nbformat                  5.9.2\n",
      "nest_asyncio              1.6.0\n",
      "notebook                  6.5.4\n",
      "notebook_shim             0.2.4\n",
      "numpy                     1.24.3\n",
      "overrides                 7.7.0\n",
      "packaging                 23.2\n",
      "pandas                    1.4.4\n",
      "pandocfilters             1.5.0\n",
      "parso                     0.8.3\n",
      "patsy                     0.5.6\n",
      "pickleshare               0.7.5\n",
      "pillow                    10.2.0\n",
      "pip                       24.0\n",
      "pkgutil_resolve_name      1.3.10\n",
      "platformdirs              4.2.0\n",
      "ply                       3.11\n",
      "prometheus_client         0.20.0\n",
      "prompt-toolkit            3.0.42\n",
      "psutil                    5.9.8\n",
      "pure-eval                 0.2.2\n",
      "pycparser                 2.21\n",
      "Pygments                  2.17.2\n",
      "pyparsing                 3.1.1\n",
      "PyQt5                     5.15.9\n",
      "PyQt5-sip                 12.12.2\n",
      "python-dateutil           2.8.2\n",
      "python-json-logger        2.0.7\n",
      "pytz                      2024.1\n",
      "pywin32                   306\n",
      "pywinpty                  2.0.12\n",
      "PyYAML                    6.0.1\n",
      "pyzmq                     25.1.2\n",
      "qtconsole                 5.5.1\n",
      "QtPy                      2.4.1\n",
      "referencing               0.33.0\n",
      "rfc3339-validator         0.1.4\n",
      "rfc3986-validator         0.1.1\n",
      "rpds-py                   0.18.0\n",
      "scikit-learn              1.5.1\n",
      "scipy                     1.13.0\n",
      "seaborn                   0.13.2\n",
      "Send2Trash                1.8.2\n",
      "setuptools                69.1.0\n",
      "sip                       6.7.12\n",
      "six                       1.16.0\n",
      "sniffio                   1.3.0\n",
      "soupsieve                 2.5\n",
      "stack-data                0.6.2\n",
      "statsmodels               0.14.2\n",
      "terminado                 0.18.0\n",
      "threadpoolctl             3.4.0\n",
      "tinycss2                  1.2.1\n",
      "toml                      0.10.2\n",
      "tomli                     2.0.1\n",
      "tornado                   6.4\n",
      "tqdm                      4.66.4\n",
      "traitlets                 5.9.0\n",
      "types-python-dateutil     2.8.19.20240106\n",
      "typing_extensions         4.9.0\n",
      "typing-utils              0.1.0\n",
      "unicodedata2              15.1.0\n",
      "uri-template              1.3.0\n",
      "wcwidth                   0.2.13\n",
      "webcolors                 1.13\n",
      "webencodings              0.5.1\n",
      "websocket-client          1.7.0\n",
      "wheel                     0.42.0\n",
      "widgetsnbextension        4.0.10\n",
      "xgboost                   2.1.0\n",
      "zipp                      3.17.0\n"
     ]
    }
   ],
   "source": [
    "!pip list"
   ],
   "metadata": {
    "collapsed": false,
    "ExecuteTime": {
     "end_time": "2024-07-06T16:48:11.609790300Z",
     "start_time": "2024-07-06T16:47:55.624450500Z"
    }
   },
   "id": "3956210ad1211a0"
  },
  {
   "cell_type": "code",
   "execution_count": 322,
   "id": "initial_id",
   "metadata": {
    "collapsed": true,
    "ExecuteTime": {
     "end_time": "2024-07-06T16:50:12.651072Z",
     "start_time": "2024-07-06T16:50:12.493950400Z"
    }
   },
   "outputs": [],
   "source": [
    "import pandas as pd\n",
    "import seaborn as sns\n",
    "import random\n",
    "import numpy as np\n",
    "\n",
    "import matplotlib.pyplot as plt\n",
    "from matplotlib.patches import Ellipse\n",
    "import matplotlib.transforms as transforms\n",
    "\n",
    "from sklearn.decomposition import PCA, TruncatedSVD, FactorAnalysis\n",
    "from sklearn.preprocessing import StandardScaler, MinMaxScaler\n",
    "from sklearn.model_selection import train_test_split, cross_val_score, LeaveOneOut, GridSearchCV\n",
    "from sklearn.svm import SVC\n",
    "from sklearn.tree import DecisionTreeClassifier\n",
    "from sklearn.ensemble import RandomForestClassifier\n",
    "from sklearn.naive_bayes import GaussianNB\n",
    "from sklearn.neural_network import MLPClassifier\n",
    "from sklearn.neighbors import KNeighborsClassifier"
   ]
  },
  {
   "cell_type": "code",
   "execution_count": 316,
   "outputs": [
    {
     "data": {
      "text/plain": "   samples              type  1007_s_at   1053_at     117_at    121_at  \\\n0        1  Bone_Marrow_CD34   7.745245  7.811210   6.477916  8.841506   \n1       12  Bone_Marrow_CD34   8.087252  7.240673   8.584648  8.983571   \n2       13  Bone_Marrow_CD34   7.792056  7.549368  11.053504  8.909703   \n3       14  Bone_Marrow_CD34   7.767265  7.094460  11.816433  8.994654   \n4       15  Bone_Marrow_CD34   8.010117  7.405281   6.656049  9.050682   \n\n   1255_g_at   1294_at   1316_at   1320_at  ...  AFFX-r2-Hs28SrRNA-5_at  \\\n0   4.546941  7.957714  5.344999  4.673364  ...                5.058849   \n1   4.548934  8.011652  5.579647  4.828184  ...                4.436153   \n2   4.549328  8.237099  5.406489  4.615572  ...                4.392061   \n3   4.697018  8.283412  5.582195  4.903684  ...                4.633334   \n4   4.514986  8.377046  5.493713  4.860754  ...                5.305192   \n\n   AFFX-r2-Hs28SrRNA-M_at  AFFX-r2-P1-cre-3_at  AFFX-r2-P1-cre-5_at  \\\n0                6.810004            12.800060            12.718612   \n1                6.751471            12.472706            12.333593   \n2                6.086295            12.637384            12.499038   \n3                6.375991            12.903630            12.871454   \n4                6.700453            12.949352            12.782515   \n\n   AFFX-ThrX-3_at  AFFX-ThrX-5_at  AFFX-ThrX-M_at  AFFX-TrpnX-3_at  \\\n0        5.391512        4.666166        3.974759         3.656693   \n1        5.379738        4.656786        4.188348         3.792535   \n2        5.316604        4.600566        3.845561         3.635715   \n3        5.179951        4.641952        3.991634         3.704587   \n4        5.341689        4.560315        3.887020         3.629853   \n\n   AFFX-TrpnX-5_at  AFFX-TrpnX-M_at  \n0         4.160622         4.139249  \n1         4.204414         4.122700  \n2         4.174199         4.067152  \n3         4.149938         3.910150  \n4         4.127513         4.004316  \n\n[5 rows x 22285 columns]",
      "text/html": "<div>\n<style scoped>\n    .dataframe tbody tr th:only-of-type {\n        vertical-align: middle;\n    }\n\n    .dataframe tbody tr th {\n        vertical-align: top;\n    }\n\n    .dataframe thead th {\n        text-align: right;\n    }\n</style>\n<table border=\"1\" class=\"dataframe\">\n  <thead>\n    <tr style=\"text-align: right;\">\n      <th></th>\n      <th>samples</th>\n      <th>type</th>\n      <th>1007_s_at</th>\n      <th>1053_at</th>\n      <th>117_at</th>\n      <th>121_at</th>\n      <th>1255_g_at</th>\n      <th>1294_at</th>\n      <th>1316_at</th>\n      <th>1320_at</th>\n      <th>...</th>\n      <th>AFFX-r2-Hs28SrRNA-5_at</th>\n      <th>AFFX-r2-Hs28SrRNA-M_at</th>\n      <th>AFFX-r2-P1-cre-3_at</th>\n      <th>AFFX-r2-P1-cre-5_at</th>\n      <th>AFFX-ThrX-3_at</th>\n      <th>AFFX-ThrX-5_at</th>\n      <th>AFFX-ThrX-M_at</th>\n      <th>AFFX-TrpnX-3_at</th>\n      <th>AFFX-TrpnX-5_at</th>\n      <th>AFFX-TrpnX-M_at</th>\n    </tr>\n  </thead>\n  <tbody>\n    <tr>\n      <th>0</th>\n      <td>1</td>\n      <td>Bone_Marrow_CD34</td>\n      <td>7.745245</td>\n      <td>7.811210</td>\n      <td>6.477916</td>\n      <td>8.841506</td>\n      <td>4.546941</td>\n      <td>7.957714</td>\n      <td>5.344999</td>\n      <td>4.673364</td>\n      <td>...</td>\n      <td>5.058849</td>\n      <td>6.810004</td>\n      <td>12.800060</td>\n      <td>12.718612</td>\n      <td>5.391512</td>\n      <td>4.666166</td>\n      <td>3.974759</td>\n      <td>3.656693</td>\n      <td>4.160622</td>\n      <td>4.139249</td>\n    </tr>\n    <tr>\n      <th>1</th>\n      <td>12</td>\n      <td>Bone_Marrow_CD34</td>\n      <td>8.087252</td>\n      <td>7.240673</td>\n      <td>8.584648</td>\n      <td>8.983571</td>\n      <td>4.548934</td>\n      <td>8.011652</td>\n      <td>5.579647</td>\n      <td>4.828184</td>\n      <td>...</td>\n      <td>4.436153</td>\n      <td>6.751471</td>\n      <td>12.472706</td>\n      <td>12.333593</td>\n      <td>5.379738</td>\n      <td>4.656786</td>\n      <td>4.188348</td>\n      <td>3.792535</td>\n      <td>4.204414</td>\n      <td>4.122700</td>\n    </tr>\n    <tr>\n      <th>2</th>\n      <td>13</td>\n      <td>Bone_Marrow_CD34</td>\n      <td>7.792056</td>\n      <td>7.549368</td>\n      <td>11.053504</td>\n      <td>8.909703</td>\n      <td>4.549328</td>\n      <td>8.237099</td>\n      <td>5.406489</td>\n      <td>4.615572</td>\n      <td>...</td>\n      <td>4.392061</td>\n      <td>6.086295</td>\n      <td>12.637384</td>\n      <td>12.499038</td>\n      <td>5.316604</td>\n      <td>4.600566</td>\n      <td>3.845561</td>\n      <td>3.635715</td>\n      <td>4.174199</td>\n      <td>4.067152</td>\n    </tr>\n    <tr>\n      <th>3</th>\n      <td>14</td>\n      <td>Bone_Marrow_CD34</td>\n      <td>7.767265</td>\n      <td>7.094460</td>\n      <td>11.816433</td>\n      <td>8.994654</td>\n      <td>4.697018</td>\n      <td>8.283412</td>\n      <td>5.582195</td>\n      <td>4.903684</td>\n      <td>...</td>\n      <td>4.633334</td>\n      <td>6.375991</td>\n      <td>12.903630</td>\n      <td>12.871454</td>\n      <td>5.179951</td>\n      <td>4.641952</td>\n      <td>3.991634</td>\n      <td>3.704587</td>\n      <td>4.149938</td>\n      <td>3.910150</td>\n    </tr>\n    <tr>\n      <th>4</th>\n      <td>15</td>\n      <td>Bone_Marrow_CD34</td>\n      <td>8.010117</td>\n      <td>7.405281</td>\n      <td>6.656049</td>\n      <td>9.050682</td>\n      <td>4.514986</td>\n      <td>8.377046</td>\n      <td>5.493713</td>\n      <td>4.860754</td>\n      <td>...</td>\n      <td>5.305192</td>\n      <td>6.700453</td>\n      <td>12.949352</td>\n      <td>12.782515</td>\n      <td>5.341689</td>\n      <td>4.560315</td>\n      <td>3.887020</td>\n      <td>3.629853</td>\n      <td>4.127513</td>\n      <td>4.004316</td>\n    </tr>\n  </tbody>\n</table>\n<p>5 rows × 22285 columns</p>\n</div>"
     },
     "execution_count": 316,
     "metadata": {},
     "output_type": "execute_result"
    }
   ],
   "source": [
    "# Import dataset\n",
    "df = pd.read_csv('Leukemia_GSE9476.csv')\n",
    "df.head()"
   ],
   "metadata": {
    "collapsed": false,
    "ExecuteTime": {
     "end_time": "2024-07-06T16:48:19.176342600Z",
     "start_time": "2024-07-06T16:48:15.676776Z"
    }
   },
   "id": "87f9ee439516881f"
  },
  {
   "cell_type": "markdown",
   "source": [
    "## Data Cleaning"
   ],
   "metadata": {
    "collapsed": false
   },
   "id": "f9cf6d00c6ea2d88"
  },
  {
   "cell_type": "markdown",
   "source": [
    "CuMiDa preforms extensive preprocessing on the data, including quality and normalisation checks."
   ],
   "metadata": {
    "collapsed": false
   },
   "id": "34c6f09ffa1c4051"
  },
  {
   "cell_type": "code",
   "execution_count": 317,
   "outputs": [],
   "source": [
    "df.type = df.type.map({'AML':'AML', 'Bone_Marrow': 'Bone Marrow', 'Bone_Marrow_CD34': 'Bone Marrow CD34+', 'PB':'PB', 'PBSC_CD34': 'PBSC CD34+'})"
   ],
   "metadata": {
    "collapsed": false,
    "ExecuteTime": {
     "end_time": "2024-07-06T16:48:33.252695100Z",
     "start_time": "2024-07-06T16:48:33.251695600Z"
    }
   },
   "id": "6c2cd284397a0d7b"
  },
  {
   "cell_type": "code",
   "execution_count": 318,
   "outputs": [
    {
     "data": {
      "text/plain": "0"
     },
     "execution_count": 318,
     "metadata": {},
     "output_type": "execute_result"
    }
   ],
   "source": [
    "df.isnull().sum().sum()"
   ],
   "metadata": {
    "collapsed": false,
    "ExecuteTime": {
     "end_time": "2024-07-06T16:48:33.382258200Z",
     "start_time": "2024-07-06T16:48:33.273645500Z"
    }
   },
   "id": "83ee297f9520da9f"
  },
  {
   "cell_type": "markdown",
   "source": [
    "## Data Exploration"
   ],
   "metadata": {
    "collapsed": false
   },
   "id": "d450d12fde691d4d"
  },
  {
   "cell_type": "code",
   "execution_count": 320,
   "outputs": [],
   "source": [
    "palette = {'AML': 'r',\n",
    " 'PB': 'blue',\n",
    " 'PBSC CD34+': 'darkblue',\n",
    " 'Bone Marrow': 'seagreen',\n",
    " 'Bone Marrow CD34+': 'mediumseagreen'}"
   ],
   "metadata": {
    "collapsed": false,
    "ExecuteTime": {
     "end_time": "2024-07-06T16:49:26.461740900Z",
     "start_time": "2024-07-06T16:49:26.452835400Z"
    }
   },
   "id": "4019ea467928d872"
  },
  {
   "cell_type": "code",
   "execution_count": 321,
   "outputs": [
    {
     "data": {
      "text/plain": "<Figure size 640x480 with 1 Axes>",
      "image/png": "[encoded data removed]"
     },
     "metadata": {},
     "output_type": "display_data"
    }
   ],
   "source": [
    "# class imbalance towards AML for multi-classifiaction\n",
    "sns.countplot(data=df, x='type', palette=palette, hue='type')\n",
    "plt.show()"
   ],
   "metadata": {
    "collapsed": false,
    "ExecuteTime": {
     "end_time": "2024-07-06T16:49:29.372194600Z",
     "start_time": "2024-07-06T16:49:29.151979Z"
    }
   },
   "id": "3b062c8a186d0085"
  },
  {
   "cell_type": "code",
   "execution_count": null,
   "outputs": [],
   "source": [
    "# Separate features and target\n",
    "y = df['type']\n",
    "X = df.drop(['type', 'samples'], axis=1) \n",
    "\n",
    "# Scale features\n",
    "scaler = StandardScaler()\n",
    "X_scaled = scaler.fit_transform(X)"
   ],
   "metadata": {
    "collapsed": false
   },
   "id": "a21954df04b25e59"
  },
  {
   "cell_type": "code",
   "execution_count": 283,
   "outputs": [],
   "source": [
    "# function taken from matplotlib documentation (https://matplotlib.org/stable/gallery/statistics/confidence_ellipse.html)\n",
    "\n",
    "def confidence_ellipse(x, y, ax, n_std=3.0, facecolor='none', **kwargs):\n",
    "    \"\"\"\n",
    "    Create a plot of the covariance confidence ellipse of *x* and *y*.\n",
    "\n",
    "    Parameters\n",
    "    ----------\n",
    "    x, y : array-like, shape (n, )\n",
    "        Input data.\n",
    "\n",
    "    ax : matplotlib.axes.Axes\n",
    "        The Axes object to draw the ellipse into.\n",
    "\n",
    "    n_std : float\n",
    "        The number of standard deviations to determine the ellipse's radiuses.\n",
    "\n",
    "    **kwargs\n",
    "        Forwarded to `~matplotlib.patches.Ellipse`\n",
    "\n",
    "    Returns\n",
    "    -------\n",
    "    matplotlib.patches.Ellipse\n",
    "    \"\"\"\n",
    "    if x.size != y.size:\n",
    "        raise ValueError(\"x and y must be the same size\")\n",
    "\n",
    "    cov = np.cov(x, y)\n",
    "    pearson = cov[0, 1]/np.sqrt(cov[0, 0] * cov[1, 1])\n",
    "    # Using a special case to obtain the eigenvalues of this\n",
    "    # two-dimensional dataset.\n",
    "    ell_radius_x = np.sqrt(1 + pearson)\n",
    "    ell_radius_y = np.sqrt(1 - pearson)\n",
    "    ellipse = Ellipse((0, 0), width=ell_radius_x * 2, height=ell_radius_y * 2,\n",
    "                      facecolor=facecolor, **kwargs)\n",
    "\n",
    "    # Calculating the standard deviation of x from\n",
    "    # the squareroot of the variance and multiplying\n",
    "    # with the given number of standard deviations.\n",
    "    scale_x = np.sqrt(cov[0, 0]) * n_std\n",
    "    mean_x = np.mean(x)\n",
    "\n",
    "    # calculating the standard deviation of y ...\n",
    "    scale_y = np.sqrt(cov[1, 1]) * n_std\n",
    "    mean_y = np.mean(y)\n",
    "\n",
    "    transf = transforms.Affine2D() \\\n",
    "        .rotate_deg(45) \\\n",
    "        .scale(scale_x, scale_y) \\\n",
    "        .translate(mean_x, mean_y)\n",
    "\n",
    "    ellipse.set_transform(transf + ax.transData)\n",
    "    return ax.add_patch(ellipse)"
   ],
   "metadata": {
    "collapsed": false,
    "ExecuteTime": {
     "end_time": "2024-07-05T09:53:21.074078300Z",
     "start_time": "2024-07-05T09:53:21.051667Z"
    }
   },
   "id": "a395c566e93073e0"
  },
  {
   "cell_type": "code",
   "execution_count": 323,
   "outputs": [
    {
     "data": {
      "text/plain": "<Figure size 600x600 with 1 Axes>",
      "image/png": "[encoded data removed]"
     },
     "metadata": {},
     "output_type": "display_data"
    }
   ],
   "source": [
    "# Apply PCA 2D\n",
    "pca = PCA(n_components=2)\n",
    "X_pca = pca.fit_transform(X_scaled)\n",
    "\n",
    "# Convert the result into a DataFrame for easier plotting\n",
    "pca_df = pd.DataFrame(data = X_pca, columns = ['Component 1', 'Component 2'])\n",
    "pca_df['Target'] = y\n",
    "\n",
    "# Plot the PCA\n",
    "f, ax = plt.subplots(nrows=1, ncols=1, figsize=(6, 6))\n",
    "sns.scatterplot(x='Component 1', y='Component 2', hue='Target', data=pca_df, palette=palette)\n",
    "# Plot the 95% confidence interval\n",
    "for cls in pca_df['Target'].unique(): \n",
    "    df_ = pca_df[pca_df['Target'] == cls]\n",
    "    confidence_ellipse(df_['Component 1'], df_['Component 2'], ax, edgecolor=palette[cls], alpha=0.1, facecolor=palette[cls], n_std=1.96)  # 95% confidence interval\n",
    "plt.show()"
   ],
   "metadata": {
    "collapsed": false,
    "ExecuteTime": {
     "end_time": "2024-07-06T16:51:27.414927500Z",
     "start_time": "2024-07-06T16:51:26.969189900Z"
    }
   },
   "id": "e6f235dd5de19881"
  },
  {
   "cell_type": "markdown",
   "source": [
    "## Model Training and Selection"
   ],
   "metadata": {
    "collapsed": false
   },
   "id": "28d9f99b7fc1b823"
  },
  {
   "cell_type": "markdown",
   "source": [
    "attmept to replicate literature results from CuMiDa"
   ],
   "metadata": {
    "collapsed": false
   },
   "id": "b31da15edc445725"
  },
  {
   "cell_type": "code",
   "execution_count": 324,
   "outputs": [
    {
     "name": "stdout",
     "output_type": "stream",
     "text": [
      "51 13\n"
     ]
    }
   ],
   "source": [
    "# train test split (stratified by default)\n",
    "X_train, X_test, y_train, y_test = train_test_split(X_scaled, y, test_size=0.2, random_state=12)\n",
    "print(len(X_train), len(X_test))"
   ],
   "metadata": {
    "collapsed": false,
    "ExecuteTime": {
     "end_time": "2024-07-06T16:51:52.029978Z",
     "start_time": "2024-07-06T16:51:51.814801200Z"
    }
   },
   "id": "6846cfac59f46048"
  },
  {
   "cell_type": "code",
   "execution_count": 248,
   "outputs": [
    {
     "name": "stderr",
     "output_type": "stream",
     "text": [
      "C:\\Users\\wallace5\\AppData\\Local\\Temp\\ipykernel_18780\\3617349803.py:14: UserWarning: set_ticklabels() should only be used with a fixed number of ticks, i.e. after set_ticks() or using a FixedLocator.\n",
      "  plt.gca().set_xticklabels(['AML', 'PB', 'PBSC\\nCD34+', 'Bone Marrow', 'Bone Marrow\\nCD34+'])\n"
     ]
    },
    {
     "data": {
      "text/plain": "<Figure size 600x300 with 1 Axes>",
      "image/png": "[encoded data removed]"
     },
     "metadata": {},
     "output_type": "display_data"
    }
   ],
   "source": [
    "# Train/Test class distribution\n",
    "\n",
    "train_counts = y_train.value_counts().sort_values()\n",
    "test_counts = y_test.value_counts().sort_values()\n",
    "\n",
    "combined_counts = pd.DataFrame({'Train': train_counts+test_counts, 'Test': test_counts}).sort_values('Test', ascending=False).reset_index()\n",
    "combined_counts_melted = pd.melt(combined_counts, id_vars='index', var_name='Type', value_name='Count')\n",
    "\n",
    "f, ax = plt.subplots(figsize=(6, 3))\n",
    "barplot = sns.barplot(x='index', y='Count', hue='Type', data=combined_counts_melted, dodge=False)\n",
    "\n",
    "plt.xlabel('')\n",
    "plt.ylabel('Number of Samples')\n",
    "plt.gca().set_xticklabels(['AML', 'PB', 'PBSC\\nCD34+', 'Bone Marrow', 'Bone Marrow\\nCD34+'])\n",
    "plt.legend()\n",
    "plt.tight_layout()\n",
    "plt.ylim(0,28)\n",
    "\n",
    "# Adding annotations to test bars\n",
    "for p in barplot.patches[5:-2]:\n",
    "    ax.text(p.get_x() + p.get_width() / 2., p.get_height()/2-1, '%d' % int(p.get_height()), \n",
    "            fontsize=10, ha='center', va='bottom')\n",
    "\n",
    "# Adding annotations to train bars\n",
    "lst = [21, 7, 8, 8, 7]\n",
    "for idx, p in enumerate(barplot.patches[:5]):\n",
    "    ax.text(p.get_x() + p.get_width() / 2., p.get_height()/2, lst[idx], \n",
    "            fontsize=10, ha='center', va='center')\n",
    "\n",
    "plt.show()"
   ],
   "metadata": {
    "collapsed": false,
    "ExecuteTime": {
     "end_time": "2024-07-05T09:32:45.659357900Z",
     "start_time": "2024-07-05T09:32:45.424477200Z"
    }
   },
   "id": "5b547b6da0a86549"
  },
  {
   "cell_type": "code",
   "execution_count": 19,
   "outputs": [],
   "source": [
    "# Define classifiers config\n",
    "classifiers = {\n",
    "    \"SVM\": {\n",
    "        'model': SVC(),\n",
    "        'params': {\n",
    "            'C': [0.1, 1, 10, 100], \n",
    "            'kernel': ['linear']\n",
    "        }\n",
    "    },\n",
    "    \"DT\": {\n",
    "        'model': DecisionTreeClassifier(),\n",
    "        'params': {\n",
    "            'max_depth': [None, 20, 30, 40],\n",
    "            'min_samples_split': [2, 5, 10]\n",
    "        }\n",
    "    },\n",
    "    \"RF\": {\n",
    "        'model': RandomForestClassifier(),\n",
    "        'params': {    \n",
    "            'n_estimators': [10, 50, 100, 200],\n",
    "            'max_depth': [None, 10, 20, 30]\n",
    "        }\n",
    "    },\n",
    "    \"NB\": {\n",
    "        'model': GaussianNB(),\n",
    "        'params': {}\n",
    "    },\n",
    "    \"MLP \": {\n",
    "        'model': MLPClassifier(hidden_layer_sizes=(10,), max_iter=1000),\n",
    "        'params': {\n",
    "            'activation': ['tanh', 'relu'],\n",
    "            'max_iter': [500, 1000, 5000]\n",
    "        }\n",
    "    },\n",
    "    \"KNN\": {\n",
    "        'model': KNeighborsClassifier(),\n",
    "        'params': {\n",
    "            'n_neighbors': [3, 5, 7, 9],\n",
    "            'weights': ['uniform', 'distance']\n",
    "        }\n",
    "    }\n",
    "}"
   ],
   "metadata": {
    "collapsed": false,
    "ExecuteTime": {
     "end_time": "2024-07-04T11:43:05.336809700Z",
     "start_time": "2024-07-04T11:43:05.152041700Z"
    }
   },
   "id": "7271ace4bc521ff1"
  },
  {
   "cell_type": "code",
   "execution_count": 20,
   "outputs": [
    {
     "name": "stdout",
     "output_type": "stream",
     "text": [
      "SVM 0.94\n",
      "DT 0.73\n",
      "RF 0.96\n",
      "NB 0.88\n"
     ]
    },
    {
     "name": "stderr",
     "output_type": "stream",
     "text": [
      "C:\\Users\\wallace5\\AppData\\Local\\miniforge3\\envs\\exeter\\lib\\site-packages\\sklearn\\neural_network\\_multilayer_perceptron.py:690: ConvergenceWarning: Stochastic Optimizer: Maximum iterations (1000) reached and the optimization hasn't converged yet.\n",
      "  warnings.warn(\n"
     ]
    },
    {
     "name": "stdout",
     "output_type": "stream",
     "text": [
      "MLP  0.86\n",
      "KNN 0.88\n"
     ]
    }
   ],
   "source": [
    "# Apply leave one out cross-validation and collect accuracies\n",
    "results = []\n",
    "for name, clf in classifiers.items():\n",
    "    cv_scores = cross_val_score(clf['model'], X_train, y_train, cv=LeaveOneOut(), scoring='accuracy')\n",
    "    results.append({\"Classifier\": name, \"Baseline Acc.\": round(cv_scores.mean(), 2), \"Baseline. std\": round(cv_scores.std(), 2)})\n",
    "    print(name, round(cv_scores.mean(), 2))"
   ],
   "metadata": {
    "collapsed": false,
    "ExecuteTime": {
     "end_time": "2024-07-04T11:46:34.023957500Z",
     "start_time": "2024-07-04T11:43:05.922457400Z"
    }
   },
   "id": "17097c6821c7a4e6"
  },
  {
   "cell_type": "code",
   "execution_count": 21,
   "outputs": [
    {
     "data": {
      "text/plain": "  Classifier  Baseline Acc.  Baseline. std  CuMiDa\n0        SVM           0.94           0.24    0.98\n1         DT           0.73           0.45    0.89\n2         RF           0.96           0.19    0.98\n3         NB           0.88           0.32    0.89\n4       MLP            0.86           0.34    0.94\n5        KNN           0.88           0.32    0.89",
      "text/html": "<div>\n<style scoped>\n    .dataframe tbody tr th:only-of-type {\n        vertical-align: middle;\n    }\n\n    .dataframe tbody tr th {\n        vertical-align: top;\n    }\n\n    .dataframe thead th {\n        text-align: right;\n    }\n</style>\n<table border=\"1\" class=\"dataframe\">\n  <thead>\n    <tr style=\"text-align: right;\">\n      <th></th>\n      <th>Classifier</th>\n      <th>Baseline Acc.</th>\n      <th>Baseline. std</th>\n      <th>CuMiDa</th>\n    </tr>\n  </thead>\n  <tbody>\n    <tr>\n      <th>0</th>\n      <td>SVM</td>\n      <td>0.94</td>\n      <td>0.24</td>\n      <td>0.98</td>\n    </tr>\n    <tr>\n      <th>1</th>\n      <td>DT</td>\n      <td>0.73</td>\n      <td>0.45</td>\n      <td>0.89</td>\n    </tr>\n    <tr>\n      <th>2</th>\n      <td>RF</td>\n      <td>0.96</td>\n      <td>0.19</td>\n      <td>0.98</td>\n    </tr>\n    <tr>\n      <th>3</th>\n      <td>NB</td>\n      <td>0.88</td>\n      <td>0.32</td>\n      <td>0.89</td>\n    </tr>\n    <tr>\n      <th>4</th>\n      <td>MLP</td>\n      <td>0.86</td>\n      <td>0.34</td>\n      <td>0.94</td>\n    </tr>\n    <tr>\n      <th>5</th>\n      <td>KNN</td>\n      <td>0.88</td>\n      <td>0.32</td>\n      <td>0.89</td>\n    </tr>\n  </tbody>\n</table>\n</div>"
     },
     "execution_count": 21,
     "metadata": {},
     "output_type": "execute_result"
    }
   ],
   "source": [
    "# Convert results to DataFrame for better readability\n",
    "results_df = pd.DataFrame(results)\n",
    "results_df = pd.concat([results_df, pd.DataFrame({'CuMiDa':[0.98, 0.89, 0.98, 0.89, 0.94, 0.89]})], axis=1)\n",
    "results_df"
   ],
   "metadata": {
    "collapsed": false,
    "ExecuteTime": {
     "end_time": "2024-07-04T11:46:34.069183100Z",
     "start_time": "2024-07-04T11:46:34.012282800Z"
    }
   },
   "id": "6758d34db03fb4c6"
  },
  {
   "cell_type": "markdown",
   "source": [
    "SVM and RF have the highest accuracies across both the literature and the cross-validation results, so we will continue with these two models. This also fits nicely with other literature that suggests that these are the best models."
   ],
   "metadata": {
    "collapsed": false
   },
   "id": "fa6ae859b6b110d5"
  },
  {
   "cell_type": "markdown",
   "source": [
    "## Hyperparameter Sweep"
   ],
   "metadata": {
    "collapsed": false
   },
   "id": "cd00367b1125d8f"
  },
  {
   "cell_type": "markdown",
   "source": [
    "choice of cross validation: LOO vs K-fold (talk about variance vs bias). LOO is low bias, high variance, K-fold strikes a balance between the two, however with K=3, the variance is still high."
   ],
   "metadata": {
    "collapsed": false
   },
   "id": "2e22f55bd69bd0ae"
  },
  {
   "cell_type": "code",
   "execution_count": 22,
   "outputs": [
    {
     "name": "stdout",
     "output_type": "stream",
     "text": [
      "SVM:\n",
      "Best parameters: {'C': 0.1, 'kernel': 'linear'}\n",
      "Best score: 0.980\n",
      "\n",
      "DT:\n",
      "Best parameters: {'max_depth': None, 'min_samples_split': 10}\n",
      "Best score: 0.804\n",
      "\n",
      "RF:\n",
      "Best parameters: {'max_depth': 10, 'n_estimators': 200}\n",
      "Best score: 1.000\n",
      "\n",
      "NB:\n",
      "Best parameters: {}\n",
      "Best score: 0.882\n"
     ]
    },
    {
     "name": "stderr",
     "output_type": "stream",
     "text": [
      "C:\\Users\\wallace5\\AppData\\Local\\miniforge3\\envs\\exeter\\lib\\site-packages\\sklearn\\neural_network\\_multilayer_perceptron.py:690: ConvergenceWarning: Stochastic Optimizer: Maximum iterations (500) reached and the optimization hasn't converged yet.\n",
      "  warnings.warn(\n",
      "C:\\Users\\wallace5\\AppData\\Local\\miniforge3\\envs\\exeter\\lib\\site-packages\\sklearn\\neural_network\\_multilayer_perceptron.py:690: ConvergenceWarning: Stochastic Optimizer: Maximum iterations (500) reached and the optimization hasn't converged yet.\n",
      "  warnings.warn(\n",
      "C:\\Users\\wallace5\\AppData\\Local\\miniforge3\\envs\\exeter\\lib\\site-packages\\sklearn\\neural_network\\_multilayer_perceptron.py:690: ConvergenceWarning: Stochastic Optimizer: Maximum iterations (500) reached and the optimization hasn't converged yet.\n",
      "  warnings.warn(\n",
      "C:\\Users\\wallace5\\AppData\\Local\\miniforge3\\envs\\exeter\\lib\\site-packages\\sklearn\\neural_network\\_multilayer_perceptron.py:690: ConvergenceWarning: Stochastic Optimizer: Maximum iterations (500) reached and the optimization hasn't converged yet.\n",
      "  warnings.warn(\n",
      "C:\\Users\\wallace5\\AppData\\Local\\miniforge3\\envs\\exeter\\lib\\site-packages\\sklearn\\neural_network\\_multilayer_perceptron.py:690: ConvergenceWarning: Stochastic Optimizer: Maximum iterations (500) reached and the optimization hasn't converged yet.\n",
      "  warnings.warn(\n",
      "C:\\Users\\wallace5\\AppData\\Local\\miniforge3\\envs\\exeter\\lib\\site-packages\\sklearn\\neural_network\\_multilayer_perceptron.py:690: ConvergenceWarning: Stochastic Optimizer: Maximum iterations (500) reached and the optimization hasn't converged yet.\n",
      "  warnings.warn(\n",
      "C:\\Users\\wallace5\\AppData\\Local\\miniforge3\\envs\\exeter\\lib\\site-packages\\sklearn\\neural_network\\_multilayer_perceptron.py:690: ConvergenceWarning: Stochastic Optimizer: Maximum iterations (500) reached and the optimization hasn't converged yet.\n",
      "  warnings.warn(\n",
      "C:\\Users\\wallace5\\AppData\\Local\\miniforge3\\envs\\exeter\\lib\\site-packages\\sklearn\\neural_network\\_multilayer_perceptron.py:690: ConvergenceWarning: Stochastic Optimizer: Maximum iterations (500) reached and the optimization hasn't converged yet.\n",
      "  warnings.warn(\n",
      "C:\\Users\\wallace5\\AppData\\Local\\miniforge3\\envs\\exeter\\lib\\site-packages\\sklearn\\neural_network\\_multilayer_perceptron.py:690: ConvergenceWarning: Stochastic Optimizer: Maximum iterations (500) reached and the optimization hasn't converged yet.\n",
      "  warnings.warn(\n",
      "C:\\Users\\wallace5\\AppData\\Local\\miniforge3\\envs\\exeter\\lib\\site-packages\\sklearn\\neural_network\\_multilayer_perceptron.py:690: ConvergenceWarning: Stochastic Optimizer: Maximum iterations (500) reached and the optimization hasn't converged yet.\n",
      "  warnings.warn(\n",
      "C:\\Users\\wallace5\\AppData\\Local\\miniforge3\\envs\\exeter\\lib\\site-packages\\sklearn\\neural_network\\_multilayer_perceptron.py:690: ConvergenceWarning: Stochastic Optimizer: Maximum iterations (500) reached and the optimization hasn't converged yet.\n",
      "  warnings.warn(\n",
      "C:\\Users\\wallace5\\AppData\\Local\\miniforge3\\envs\\exeter\\lib\\site-packages\\sklearn\\neural_network\\_multilayer_perceptron.py:690: ConvergenceWarning: Stochastic Optimizer: Maximum iterations (500) reached and the optimization hasn't converged yet.\n",
      "  warnings.warn(\n",
      "C:\\Users\\wallace5\\AppData\\Local\\miniforge3\\envs\\exeter\\lib\\site-packages\\sklearn\\neural_network\\_multilayer_perceptron.py:690: ConvergenceWarning: Stochastic Optimizer: Maximum iterations (500) reached and the optimization hasn't converged yet.\n",
      "  warnings.warn(\n",
      "C:\\Users\\wallace5\\AppData\\Local\\miniforge3\\envs\\exeter\\lib\\site-packages\\sklearn\\neural_network\\_multilayer_perceptron.py:690: ConvergenceWarning: Stochastic Optimizer: Maximum iterations (500) reached and the optimization hasn't converged yet.\n",
      "  warnings.warn(\n",
      "C:\\Users\\wallace5\\AppData\\Local\\miniforge3\\envs\\exeter\\lib\\site-packages\\sklearn\\neural_network\\_multilayer_perceptron.py:690: ConvergenceWarning: Stochastic Optimizer: Maximum iterations (500) reached and the optimization hasn't converged yet.\n",
      "  warnings.warn(\n",
      "C:\\Users\\wallace5\\AppData\\Local\\miniforge3\\envs\\exeter\\lib\\site-packages\\sklearn\\neural_network\\_multilayer_perceptron.py:690: ConvergenceWarning: Stochastic Optimizer: Maximum iterations (500) reached and the optimization hasn't converged yet.\n",
      "  warnings.warn(\n",
      "C:\\Users\\wallace5\\AppData\\Local\\miniforge3\\envs\\exeter\\lib\\site-packages\\sklearn\\neural_network\\_multilayer_perceptron.py:690: ConvergenceWarning: Stochastic Optimizer: Maximum iterations (500) reached and the optimization hasn't converged yet.\n",
      "  warnings.warn(\n",
      "C:\\Users\\wallace5\\AppData\\Local\\miniforge3\\envs\\exeter\\lib\\site-packages\\sklearn\\neural_network\\_multilayer_perceptron.py:690: ConvergenceWarning: Stochastic Optimizer: Maximum iterations (500) reached and the optimization hasn't converged yet.\n",
      "  warnings.warn(\n",
      "C:\\Users\\wallace5\\AppData\\Local\\miniforge3\\envs\\exeter\\lib\\site-packages\\sklearn\\neural_network\\_multilayer_perceptron.py:690: ConvergenceWarning: Stochastic Optimizer: Maximum iterations (500) reached and the optimization hasn't converged yet.\n",
      "  warnings.warn(\n",
      "C:\\Users\\wallace5\\AppData\\Local\\miniforge3\\envs\\exeter\\lib\\site-packages\\sklearn\\neural_network\\_multilayer_perceptron.py:690: ConvergenceWarning: Stochastic Optimizer: Maximum iterations (500) reached and the optimization hasn't converged yet.\n",
      "  warnings.warn(\n",
      "C:\\Users\\wallace5\\AppData\\Local\\miniforge3\\envs\\exeter\\lib\\site-packages\\sklearn\\neural_network\\_multilayer_perceptron.py:690: ConvergenceWarning: Stochastic Optimizer: Maximum iterations (500) reached and the optimization hasn't converged yet.\n",
      "  warnings.warn(\n",
      "C:\\Users\\wallace5\\AppData\\Local\\miniforge3\\envs\\exeter\\lib\\site-packages\\sklearn\\neural_network\\_multilayer_perceptron.py:690: ConvergenceWarning: Stochastic Optimizer: Maximum iterations (500) reached and the optimization hasn't converged yet.\n",
      "  warnings.warn(\n",
      "C:\\Users\\wallace5\\AppData\\Local\\miniforge3\\envs\\exeter\\lib\\site-packages\\sklearn\\neural_network\\_multilayer_perceptron.py:690: ConvergenceWarning: Stochastic Optimizer: Maximum iterations (500) reached and the optimization hasn't converged yet.\n",
      "  warnings.warn(\n",
      "C:\\Users\\wallace5\\AppData\\Local\\miniforge3\\envs\\exeter\\lib\\site-packages\\sklearn\\neural_network\\_multilayer_perceptron.py:690: ConvergenceWarning: Stochastic Optimizer: Maximum iterations (500) reached and the optimization hasn't converged yet.\n",
      "  warnings.warn(\n",
      "C:\\Users\\wallace5\\AppData\\Local\\miniforge3\\envs\\exeter\\lib\\site-packages\\sklearn\\neural_network\\_multilayer_perceptron.py:690: ConvergenceWarning: Stochastic Optimizer: Maximum iterations (500) reached and the optimization hasn't converged yet.\n",
      "  warnings.warn(\n",
      "C:\\Users\\wallace5\\AppData\\Local\\miniforge3\\envs\\exeter\\lib\\site-packages\\sklearn\\neural_network\\_multilayer_perceptron.py:690: ConvergenceWarning: Stochastic Optimizer: Maximum iterations (500) reached and the optimization hasn't converged yet.\n",
      "  warnings.warn(\n",
      "C:\\Users\\wallace5\\AppData\\Local\\miniforge3\\envs\\exeter\\lib\\site-packages\\sklearn\\neural_network\\_multilayer_perceptron.py:690: ConvergenceWarning: Stochastic Optimizer: Maximum iterations (500) reached and the optimization hasn't converged yet.\n",
      "  warnings.warn(\n",
      "C:\\Users\\wallace5\\AppData\\Local\\miniforge3\\envs\\exeter\\lib\\site-packages\\sklearn\\neural_network\\_multilayer_perceptron.py:690: ConvergenceWarning: Stochastic Optimizer: Maximum iterations (500) reached and the optimization hasn't converged yet.\n",
      "  warnings.warn(\n",
      "C:\\Users\\wallace5\\AppData\\Local\\miniforge3\\envs\\exeter\\lib\\site-packages\\sklearn\\neural_network\\_multilayer_perceptron.py:690: ConvergenceWarning: Stochastic Optimizer: Maximum iterations (500) reached and the optimization hasn't converged yet.\n",
      "  warnings.warn(\n",
      "C:\\Users\\wallace5\\AppData\\Local\\miniforge3\\envs\\exeter\\lib\\site-packages\\sklearn\\neural_network\\_multilayer_perceptron.py:690: ConvergenceWarning: Stochastic Optimizer: Maximum iterations (500) reached and the optimization hasn't converged yet.\n",
      "  warnings.warn(\n",
      "C:\\Users\\wallace5\\AppData\\Local\\miniforge3\\envs\\exeter\\lib\\site-packages\\sklearn\\neural_network\\_multilayer_perceptron.py:690: ConvergenceWarning: Stochastic Optimizer: Maximum iterations (500) reached and the optimization hasn't converged yet.\n",
      "  warnings.warn(\n",
      "C:\\Users\\wallace5\\AppData\\Local\\miniforge3\\envs\\exeter\\lib\\site-packages\\sklearn\\neural_network\\_multilayer_perceptron.py:690: ConvergenceWarning: Stochastic Optimizer: Maximum iterations (500) reached and the optimization hasn't converged yet.\n",
      "  warnings.warn(\n",
      "C:\\Users\\wallace5\\AppData\\Local\\miniforge3\\envs\\exeter\\lib\\site-packages\\sklearn\\neural_network\\_multilayer_perceptron.py:690: ConvergenceWarning: Stochastic Optimizer: Maximum iterations (500) reached and the optimization hasn't converged yet.\n",
      "  warnings.warn(\n",
      "C:\\Users\\wallace5\\AppData\\Local\\miniforge3\\envs\\exeter\\lib\\site-packages\\sklearn\\neural_network\\_multilayer_perceptron.py:690: ConvergenceWarning: Stochastic Optimizer: Maximum iterations (500) reached and the optimization hasn't converged yet.\n",
      "  warnings.warn(\n",
      "C:\\Users\\wallace5\\AppData\\Local\\miniforge3\\envs\\exeter\\lib\\site-packages\\sklearn\\neural_network\\_multilayer_perceptron.py:690: ConvergenceWarning: Stochastic Optimizer: Maximum iterations (1000) reached and the optimization hasn't converged yet.\n",
      "  warnings.warn(\n",
      "C:\\Users\\wallace5\\AppData\\Local\\miniforge3\\envs\\exeter\\lib\\site-packages\\sklearn\\neural_network\\_multilayer_perceptron.py:690: ConvergenceWarning: Stochastic Optimizer: Maximum iterations (1000) reached and the optimization hasn't converged yet.\n",
      "  warnings.warn(\n",
      "C:\\Users\\wallace5\\AppData\\Local\\miniforge3\\envs\\exeter\\lib\\site-packages\\sklearn\\neural_network\\_multilayer_perceptron.py:690: ConvergenceWarning: Stochastic Optimizer: Maximum iterations (500) reached and the optimization hasn't converged yet.\n",
      "  warnings.warn(\n"
     ]
    },
    {
     "name": "stdout",
     "output_type": "stream",
     "text": [
      "MLP :\n",
      "Best parameters: {'activation': 'tanh', 'max_iter': 500}\n",
      "Best score: 0.902\n",
      "\n",
      "KNN:\n",
      "Best parameters: {'n_neighbors': 5, 'weights': 'uniform'}\n",
      "Best score: 0.882\n"
     ]
    }
   ],
   "source": [
    "# sweep hyperparameters of each classifier using GridSearchCV. Save the best model and parameters for each.\n",
    "for name, clf in classifiers.items():\n",
    "    grid_search = GridSearchCV(clf['model'], clf['params'], cv=LeaveOneOut(), scoring='accuracy')\n",
    "    grid_search.fit(X_train, y_train)\n",
    "    clf['best_model'] = grid_search.best_estimator_ \n",
    "    clf['best_params'] = grid_search.best_params_\n",
    "    clf['best_score'] = grid_search.best_score_\n",
    "    print(f\"{name}:\\n\"\n",
    "          f\"Best parameters: {grid_search.best_params_}\\n\"\n",
    "          f\"Best score: {grid_search.best_score_:.3f}\\n\\n\")"
   ],
   "metadata": {
    "collapsed": false,
    "ExecuteTime": {
     "end_time": "2024-07-04T12:19:08.628415700Z",
     "start_time": "2024-07-04T11:46:34.041144600Z"
    }
   },
   "id": "d0415832c63a6821"
  },
  {
   "cell_type": "code",
   "execution_count": 23,
   "outputs": [
    {
     "data": {
      "text/plain": "  Classifier  Baseline Acc.  Baseline. std  CuMiDa  Tuned Acc.\n0        SVM           0.94           0.24    0.98        0.98\n1         DT           0.73           0.45    0.89        0.80\n2         RF           0.96           0.19    0.98        1.00\n3         NB           0.88           0.32    0.89        0.88\n4       MLP            0.86           0.34    0.94        0.90\n5        KNN           0.88           0.32    0.89        0.88",
      "text/html": "<div>\n<style scoped>\n    .dataframe tbody tr th:only-of-type {\n        vertical-align: middle;\n    }\n\n    .dataframe tbody tr th {\n        vertical-align: top;\n    }\n\n    .dataframe thead th {\n        text-align: right;\n    }\n</style>\n<table border=\"1\" class=\"dataframe\">\n  <thead>\n    <tr style=\"text-align: right;\">\n      <th></th>\n      <th>Classifier</th>\n      <th>Baseline Acc.</th>\n      <th>Baseline. std</th>\n      <th>CuMiDa</th>\n      <th>Tuned Acc.</th>\n    </tr>\n  </thead>\n  <tbody>\n    <tr>\n      <th>0</th>\n      <td>SVM</td>\n      <td>0.94</td>\n      <td>0.24</td>\n      <td>0.98</td>\n      <td>0.98</td>\n    </tr>\n    <tr>\n      <th>1</th>\n      <td>DT</td>\n      <td>0.73</td>\n      <td>0.45</td>\n      <td>0.89</td>\n      <td>0.80</td>\n    </tr>\n    <tr>\n      <th>2</th>\n      <td>RF</td>\n      <td>0.96</td>\n      <td>0.19</td>\n      <td>0.98</td>\n      <td>1.00</td>\n    </tr>\n    <tr>\n      <th>3</th>\n      <td>NB</td>\n      <td>0.88</td>\n      <td>0.32</td>\n      <td>0.89</td>\n      <td>0.88</td>\n    </tr>\n    <tr>\n      <th>4</th>\n      <td>MLP</td>\n      <td>0.86</td>\n      <td>0.34</td>\n      <td>0.94</td>\n      <td>0.90</td>\n    </tr>\n    <tr>\n      <th>5</th>\n      <td>KNN</td>\n      <td>0.88</td>\n      <td>0.32</td>\n      <td>0.89</td>\n      <td>0.88</td>\n    </tr>\n  </tbody>\n</table>\n</div>"
     },
     "execution_count": 23,
     "metadata": {},
     "output_type": "execute_result"
    }
   ],
   "source": [
    "results_df_ = pd.concat([results_df, \n",
    "                         pd.DataFrame({'Tuned Acc.':[round(clf['best_score'], 2) for clf in classifiers.values()]})], axis=1)\n",
    "results_df_"
   ],
   "metadata": {
    "collapsed": false,
    "ExecuteTime": {
     "end_time": "2024-07-04T12:19:08.703790900Z",
     "start_time": "2024-07-04T12:19:08.644996200Z"
    }
   },
   "id": "530fd3798aed136e"
  },
  {
   "cell_type": "markdown",
   "source": [
    "## Test Set Scores"
   ],
   "metadata": {
    "collapsed": false
   },
   "id": "2966c282cf20026e"
  },
  {
   "cell_type": "code",
   "execution_count": 24,
   "outputs": [
    {
     "data": {
      "text/plain": "  Classifier  Baseline Acc.  Baseline. std  CuMiDa  Tuned Acc.  Test Acc.\n0        SVM           0.94           0.24    0.98        0.98       1.00\n1         DT           0.73           0.45    0.89        0.80       0.85\n2         RF           0.96           0.19    0.98        1.00       1.00\n3         NB           0.88           0.32    0.89        0.88       0.85\n4       MLP            0.86           0.34    0.94        0.90       0.77\n5        KNN           0.88           0.32    0.89        0.88       0.85",
      "text/html": "<div>\n<style scoped>\n    .dataframe tbody tr th:only-of-type {\n        vertical-align: middle;\n    }\n\n    .dataframe tbody tr th {\n        vertical-align: top;\n    }\n\n    .dataframe thead th {\n        text-align: right;\n    }\n</style>\n<table border=\"1\" class=\"dataframe\">\n  <thead>\n    <tr style=\"text-align: right;\">\n      <th></th>\n      <th>Classifier</th>\n      <th>Baseline Acc.</th>\n      <th>Baseline. std</th>\n      <th>CuMiDa</th>\n      <th>Tuned Acc.</th>\n      <th>Test Acc.</th>\n    </tr>\n  </thead>\n  <tbody>\n    <tr>\n      <th>0</th>\n      <td>SVM</td>\n      <td>0.94</td>\n      <td>0.24</td>\n      <td>0.98</td>\n      <td>0.98</td>\n      <td>1.00</td>\n    </tr>\n    <tr>\n      <th>1</th>\n      <td>DT</td>\n      <td>0.73</td>\n      <td>0.45</td>\n      <td>0.89</td>\n      <td>0.80</td>\n      <td>0.85</td>\n    </tr>\n    <tr>\n      <th>2</th>\n      <td>RF</td>\n      <td>0.96</td>\n      <td>0.19</td>\n      <td>0.98</td>\n      <td>1.00</td>\n      <td>1.00</td>\n    </tr>\n    <tr>\n      <th>3</th>\n      <td>NB</td>\n      <td>0.88</td>\n      <td>0.32</td>\n      <td>0.89</td>\n      <td>0.88</td>\n      <td>0.85</td>\n    </tr>\n    <tr>\n      <th>4</th>\n      <td>MLP</td>\n      <td>0.86</td>\n      <td>0.34</td>\n      <td>0.94</td>\n      <td>0.90</td>\n      <td>0.77</td>\n    </tr>\n    <tr>\n      <th>5</th>\n      <td>KNN</td>\n      <td>0.88</td>\n      <td>0.32</td>\n      <td>0.89</td>\n      <td>0.88</td>\n      <td>0.85</td>\n    </tr>\n  </tbody>\n</table>\n</div>"
     },
     "execution_count": 24,
     "metadata": {},
     "output_type": "execute_result"
    }
   ],
   "source": [
    "results_df_ = pd.concat([results_df_, \n",
    "                         pd.DataFrame({'Test Acc.':[round(clf['best_model'].score(X_test, y_test), 2) for clf in classifiers.values()]})], axis=1)\n",
    "results_df_"
   ],
   "metadata": {
    "collapsed": false,
    "ExecuteTime": {
     "end_time": "2024-07-04T12:19:09.303377600Z",
     "start_time": "2024-07-04T12:19:08.678560100Z"
    }
   },
   "id": "2c78d0c2217070bd"
  },
  {
   "cell_type": "code",
   "execution_count": 27,
   "outputs": [
    {
     "name": "stdout",
     "output_type": "stream",
     "text": [
      "{'C': 0.1, 'kernel': 'linear'}\n",
      "{'max_depth': 10, 'n_estimators': 200}\n"
     ]
    }
   ],
   "source": [
    "print(classifiers['SVM']['best_params'])\n",
    "print(classifiers['RF']['best_params'])"
   ],
   "metadata": {
    "collapsed": false,
    "ExecuteTime": {
     "end_time": "2024-07-04T12:20:48.966821400Z",
     "start_time": "2024-07-04T12:20:48.946807200Z"
    }
   },
   "id": "6bc11525d51d885f"
  },
  {
   "cell_type": "markdown",
   "source": [
    "Use SVM going forward as it has the highest test accuracy, and test acc. > train acc. (less likely to be overfitting)."
   ],
   "metadata": {
    "collapsed": false
   },
   "id": "e9c41605db4bd94e"
  },
  {
   "cell_type": "markdown",
   "source": [
    "## Feature Extraction Methods"
   ],
   "metadata": {
    "collapsed": false
   },
   "id": "75ff36ca899f4463"
  },
  {
   "cell_type": "code",
   "execution_count": 165,
   "outputs": [],
   "source": [
    "# Feature extraction configuration\n",
    "f_extraction = {\n",
    "    'PCA': {'method':PCA},\n",
    "    'FA': {'method':FactorAnalysis},\n",
    "    'SVD': {'method':TruncatedSVD}\n",
    "}"
   ],
   "metadata": {
    "collapsed": false,
    "ExecuteTime": {
     "end_time": "2024-07-04T16:47:45.886785600Z",
     "start_time": "2024-07-04T16:47:45.712719400Z"
    }
   },
   "id": "bc2805d89c750e89"
  },
  {
   "cell_type": "code",
   "execution_count": 302,
   "outputs": [],
   "source": [
    "n_feat = 7\n",
    "n_features = list(range(1, n_feat+1))\n",
    "df_feats = pd.DataFrame({'n_features': n_features})"
   ],
   "metadata": {
    "collapsed": false,
    "ExecuteTime": {
     "end_time": "2024-07-05T12:56:35.832430100Z",
     "start_time": "2024-07-05T12:56:35.627850Z"
    }
   },
   "id": "ce6d9b770a3055c"
  },
  {
   "cell_type": "code",
   "execution_count": 303,
   "outputs": [
    {
     "name": "stdout",
     "output_type": "stream",
     "text": [
      "PCA: 6 (1.00)\n",
      "FA: 5 (1.00)\n",
      "SVD: 6 (1.00)\n"
     ]
    },
    {
     "data": {
      "text/plain": "   n_features       PCA        FA       SVD\n0           1  0.384615  0.384615  0.384615\n1           2  0.846154  0.615385  0.846154\n2           3  0.692308  0.615385  0.692308\n3           4  0.846154  0.769231  0.846154\n4           5  0.923077  1.000000  0.923077\n5           6  1.000000       NaN  1.000000\n6           7       NaN       NaN       NaN",
      "text/html": "<div>\n<style scoped>\n    .dataframe tbody tr th:only-of-type {\n        vertical-align: middle;\n    }\n\n    .dataframe tbody tr th {\n        vertical-align: top;\n    }\n\n    .dataframe thead th {\n        text-align: right;\n    }\n</style>\n<table border=\"1\" class=\"dataframe\">\n  <thead>\n    <tr style=\"text-align: right;\">\n      <th></th>\n      <th>n_features</th>\n      <th>PCA</th>\n      <th>FA</th>\n      <th>SVD</th>\n    </tr>\n  </thead>\n  <tbody>\n    <tr>\n      <th>0</th>\n      <td>1</td>\n      <td>0.384615</td>\n      <td>0.384615</td>\n      <td>0.384615</td>\n    </tr>\n    <tr>\n      <th>1</th>\n      <td>2</td>\n      <td>0.846154</td>\n      <td>0.615385</td>\n      <td>0.846154</td>\n    </tr>\n    <tr>\n      <th>2</th>\n      <td>3</td>\n      <td>0.692308</td>\n      <td>0.615385</td>\n      <td>0.692308</td>\n    </tr>\n    <tr>\n      <th>3</th>\n      <td>4</td>\n      <td>0.846154</td>\n      <td>0.769231</td>\n      <td>0.846154</td>\n    </tr>\n    <tr>\n      <th>4</th>\n      <td>5</td>\n      <td>0.923077</td>\n      <td>1.000000</td>\n      <td>0.923077</td>\n    </tr>\n    <tr>\n      <th>5</th>\n      <td>6</td>\n      <td>1.000000</td>\n      <td>NaN</td>\n      <td>1.000000</td>\n    </tr>\n    <tr>\n      <th>6</th>\n      <td>7</td>\n      <td>NaN</td>\n      <td>NaN</td>\n      <td>NaN</td>\n    </tr>\n  </tbody>\n</table>\n</div>"
     },
     "execution_count": 303,
     "metadata": {},
     "output_type": "execute_result"
    }
   ],
   "source": [
    "# Calculate test acc. for increasing number of features for each feature extraction method. Stop when acc. = 1\n",
    "for name, method in f_extraction.items():\n",
    "    accs = []\n",
    "    for i in range(1, n_feat):\n",
    "        # Apply the feature extraction method with i components\n",
    "        fe = method['method'](n_components=i)\n",
    "        X_train_fe = fe.fit_transform(X_train)\n",
    "        X_test_fe = fe.transform(X_test)\n",
    "        \n",
    "        # Train SVM\n",
    "        svc = SVC(**classifiers['SVM']['best_params'])\n",
    "        svc.fit(X_train_fe, y_train)\n",
    "        acc = svc.score(X_test_fe, y_test)\n",
    "        accs.append(acc)\n",
    "        \n",
    "        # if acc = 1, save the number of features, feature importance's, the model and stop\n",
    "        if acc == 1:\n",
    "            f_extraction[name]['n_features'] = i\n",
    "            f_extraction[name]['model'] = fe\n",
    "            \n",
    "            # most important features\n",
    "            features = list(zip(X.columns, np.abs(fe.components_).mean(axis=0)))\n",
    "            sorted_features = sorted(features, key=lambda x: x[1], reverse=True)\n",
    "            f_extraction[name]['features'] = [feature[0] for feature in sorted_features[:n_feat]]\n",
    "            break\n",
    "            \n",
    "    # ensure all lists are the same length      \n",
    "    if len(accs) < n_feat:\n",
    "        accs += [np.nan] * (n_feat - len(accs))\n",
    "    f_extraction[name]['accs'] = accs\n",
    "        \n",
    "    print(f\"{name}: {i} ({accs[i-1]:.2f})\")\n",
    "    df_feats = pd.concat([df_feats, pd.DataFrame({name: accs})], axis=1)\n",
    "df_feats.head(10)"
   ],
   "metadata": {
    "collapsed": false,
    "ExecuteTime": {
     "end_time": "2024-07-05T12:56:50.574835200Z",
     "start_time": "2024-07-05T12:56:36.664771300Z"
    }
   },
   "id": "ac25cc9063375585"
  },
  {
   "cell_type": "code",
   "execution_count": 305,
   "outputs": [
    {
     "data": {
      "text/plain": "   n_features       PCA        FA       SVD    Random\n0           1  0.384615  0.384615  0.384615  0.389231\n1           2  0.846154  0.615385  0.846154  0.423077\n2           3  0.692308  0.615385  0.692308  0.436154\n3           4  0.846154  0.769231  0.846154  0.462308\n4           5  0.923077  1.000000  0.923077  0.508462\n5           6  1.000000       NaN  1.000000  0.536923\n6           7       NaN       NaN       NaN       NaN",
      "text/html": "<div>\n<style scoped>\n    .dataframe tbody tr th:only-of-type {\n        vertical-align: middle;\n    }\n\n    .dataframe tbody tr th {\n        vertical-align: top;\n    }\n\n    .dataframe thead th {\n        text-align: right;\n    }\n</style>\n<table border=\"1\" class=\"dataframe\">\n  <thead>\n    <tr style=\"text-align: right;\">\n      <th></th>\n      <th>n_features</th>\n      <th>PCA</th>\n      <th>FA</th>\n      <th>SVD</th>\n      <th>Random</th>\n    </tr>\n  </thead>\n  <tbody>\n    <tr>\n      <th>0</th>\n      <td>1</td>\n      <td>0.384615</td>\n      <td>0.384615</td>\n      <td>0.384615</td>\n      <td>0.389231</td>\n    </tr>\n    <tr>\n      <th>1</th>\n      <td>2</td>\n      <td>0.846154</td>\n      <td>0.615385</td>\n      <td>0.846154</td>\n      <td>0.423077</td>\n    </tr>\n    <tr>\n      <th>2</th>\n      <td>3</td>\n      <td>0.692308</td>\n      <td>0.615385</td>\n      <td>0.692308</td>\n      <td>0.436154</td>\n    </tr>\n    <tr>\n      <th>3</th>\n      <td>4</td>\n      <td>0.846154</td>\n      <td>0.769231</td>\n      <td>0.846154</td>\n      <td>0.462308</td>\n    </tr>\n    <tr>\n      <th>4</th>\n      <td>5</td>\n      <td>0.923077</td>\n      <td>1.000000</td>\n      <td>0.923077</td>\n      <td>0.508462</td>\n    </tr>\n    <tr>\n      <th>5</th>\n      <td>6</td>\n      <td>1.000000</td>\n      <td>NaN</td>\n      <td>1.000000</td>\n      <td>0.536923</td>\n    </tr>\n    <tr>\n      <th>6</th>\n      <td>7</td>\n      <td>NaN</td>\n      <td>NaN</td>\n      <td>NaN</td>\n      <td>NaN</td>\n    </tr>\n  </tbody>\n</table>\n</div>"
     },
     "execution_count": 305,
     "metadata": {},
     "output_type": "execute_result"
    }
   ],
   "source": [
    "# Random feature selection to compare to feature extraction methods\n",
    "random_accs = []\n",
    "for i in range(1,n_feat):\n",
    "    \n",
    "    accs = []\n",
    "    for j in range(100):\n",
    "        # select i random features. Repeat 100 times and average acc.\n",
    "        features = random.sample(list(range(len(X.columns))), i)\n",
    "        X_train_, X_test_ = X_train[:, features], X_test[:, features]\n",
    "        \n",
    "        # Train SVM and calculate acc.\n",
    "        svc_clf = SVC(**classifiers['SVM']['best_params'])\n",
    "        svc_clf.fit(X_train_, y_train)\n",
    "        accs.append(svc_clf.score(X_test_, y_test))     \n",
    "        \n",
    "    acc = sum(accs)/len(accs)\n",
    "    random_accs.append(acc)\n",
    "    \n",
    "    if acc == 1:\n",
    "        break\n",
    "\n",
    "# ensure all lists are the same length      \n",
    "if len(random_accs) < n_feat:\n",
    "    random_accs += [np.nan] * (n_feat - len(random_accs))\n",
    "    \n",
    "df_feats = pd.concat([df_feats, pd.DataFrame({\"Random\": random_accs})], axis=1)\n",
    "df_feats.head(10)"
   ],
   "metadata": {
    "collapsed": false,
    "ExecuteTime": {
     "end_time": "2024-07-05T12:56:54.294343700Z",
     "start_time": "2024-07-05T12:56:50.589830200Z"
    }
   },
   "id": "557c8617d4eff7cf"
  },
  {
   "cell_type": "code",
   "execution_count": 308,
   "outputs": [],
   "source": [
    "def RFA(max_features=5, classifier=SVC(**classifiers['SVM']['best_params'])):\n",
    "    \"\"\"Recursive Feature Addition\n",
    "    \n",
    "    Parameters\n",
    "    ----------\n",
    "    max_features : int\n",
    "        The maximum number of features to select\n",
    "    classifier : sklearn classifier\n",
    "        The classifier to use for evaluating the model\n",
    "        \n",
    "    Returns\n",
    "    -------\n",
    "    best_accs : list\n",
    "        The best accuracies for each feature set\n",
    "    best_features : list\n",
    "        The best features for each feature set\n",
    "    \"\"\"\n",
    "    selected_features = []\n",
    "    best_accs = []\n",
    "    best_features = []\n",
    "    remaining_features = list(range(len(X.columns)))\n",
    "    best_acc = 0.0\n",
    "\n",
    "    while remaining_features and len(selected_features) < max_features:\n",
    "        best_feature = None\n",
    "        all_accs = []\n",
    "        for feature in remaining_features:\n",
    "            # Temporarily add the feature to the selected set\n",
    "            temp_selected_features = selected_features + [feature]\n",
    "\n",
    "            # Train and evaluate the model with the temporary selected features\n",
    "            classifier.fit(X_train[:, temp_selected_features], y_train)\n",
    "            acc = classifier.score(X_test[:, temp_selected_features], y_test)\n",
    "            all_accs.append(acc)\n",
    "\n",
    "            # Update the best feature if the model improves\n",
    "            if acc > best_acc:\n",
    "                best_acc = acc\n",
    "                best_feature = feature\n",
    "\n",
    "        best_accs.append(best_acc)\n",
    "\n",
    "        # Permanently add the best feature to the selected set and remove it from the remaining set\n",
    "        selected_features.append(best_feature)\n",
    "        remaining_features.remove(best_feature)\n",
    "        best_features.append(X.columns[best_feature])\n",
    "        print(f\"Selected feature: {X.columns[best_feature]}, New accuracy: {best_acc:.3f}\")\n",
    "        \n",
    "        if best_acc == 1:\n",
    "            break\n",
    "    \n",
    "    return best_accs, best_features"
   ],
   "metadata": {
    "collapsed": false,
    "ExecuteTime": {
     "end_time": "2024-07-05T12:57:53.273068100Z",
     "start_time": "2024-07-05T12:57:53.226142800Z"
    }
   },
   "id": "849cda9b21b1902e"
  },
  {
   "cell_type": "code",
   "execution_count": 309,
   "outputs": [
    {
     "name": "stdout",
     "output_type": "stream",
     "text": [
      "Selected feature: 205174_s_at, New accuracy: 0.769\n",
      "Selected feature: 201215_at, New accuracy: 0.923\n",
      "Selected feature: 1053_at, New accuracy: 1.000\n"
     ]
    },
    {
     "data": {
      "text/plain": "   n_features       PCA        FA       SVD    Random       RFA\n0           1  0.384615  0.384615  0.384615  0.389231  0.769231\n1           2  0.846154  0.615385  0.846154  0.423077  0.923077\n2           3  0.692308  0.615385  0.692308  0.436154  1.000000\n3           4  0.846154  0.769231  0.846154  0.462308       NaN\n4           5  0.923077  1.000000  0.923077  0.508462       NaN\n5           6  1.000000       NaN  1.000000  0.536923       NaN\n6           7       NaN       NaN       NaN       NaN       NaN",
      "text/html": "<div>\n<style scoped>\n    .dataframe tbody tr th:only-of-type {\n        vertical-align: middle;\n    }\n\n    .dataframe tbody tr th {\n        vertical-align: top;\n    }\n\n    .dataframe thead th {\n        text-align: right;\n    }\n</style>\n<table border=\"1\" class=\"dataframe\">\n  <thead>\n    <tr style=\"text-align: right;\">\n      <th></th>\n      <th>n_features</th>\n      <th>PCA</th>\n      <th>FA</th>\n      <th>SVD</th>\n      <th>Random</th>\n      <th>RFA</th>\n    </tr>\n  </thead>\n  <tbody>\n    <tr>\n      <th>0</th>\n      <td>1</td>\n      <td>0.384615</td>\n      <td>0.384615</td>\n      <td>0.384615</td>\n      <td>0.389231</td>\n      <td>0.769231</td>\n    </tr>\n    <tr>\n      <th>1</th>\n      <td>2</td>\n      <td>0.846154</td>\n      <td>0.615385</td>\n      <td>0.846154</td>\n      <td>0.423077</td>\n      <td>0.923077</td>\n    </tr>\n    <tr>\n      <th>2</th>\n      <td>3</td>\n      <td>0.692308</td>\n      <td>0.615385</td>\n      <td>0.692308</td>\n      <td>0.436154</td>\n      <td>1.000000</td>\n    </tr>\n    <tr>\n      <th>3</th>\n      <td>4</td>\n      <td>0.846154</td>\n      <td>0.769231</td>\n      <td>0.846154</td>\n      <td>0.462308</td>\n      <td>NaN</td>\n    </tr>\n    <tr>\n      <th>4</th>\n      <td>5</td>\n      <td>0.923077</td>\n      <td>1.000000</td>\n      <td>0.923077</td>\n      <td>0.508462</td>\n      <td>NaN</td>\n    </tr>\n    <tr>\n      <th>5</th>\n      <td>6</td>\n      <td>1.000000</td>\n      <td>NaN</td>\n      <td>1.000000</td>\n      <td>0.536923</td>\n      <td>NaN</td>\n    </tr>\n    <tr>\n      <th>6</th>\n      <td>7</td>\n      <td>NaN</td>\n      <td>NaN</td>\n      <td>NaN</td>\n      <td>NaN</td>\n      <td>NaN</td>\n    </tr>\n  </tbody>\n</table>\n</div>"
     },
     "execution_count": 309,
     "metadata": {},
     "output_type": "execute_result"
    }
   ],
   "source": [
    "best_accs, best_features = RFA(max_features=5)\n",
    "\n",
    "# ensure all lists are the same length\n",
    "if len(best_accs) < n_feat:\n",
    "    best_accs += [np.nan] * (n_feat - len(best_accs))\n",
    "    \n",
    "df_feats = pd.concat([df_feats, pd.DataFrame({\"RFA\": best_accs})], axis=1)\n",
    "df_feats.head(10)"
   ],
   "metadata": {
    "collapsed": false,
    "ExecuteTime": {
     "end_time": "2024-07-05T13:00:46.779424800Z",
     "start_time": "2024-07-05T12:57:56.843350500Z"
    }
   },
   "id": "eaa7d5620e225011"
  },
  {
   "cell_type": "code",
   "execution_count": 310,
   "outputs": [],
   "source": [
    "# add a row with 0 features for plotting\n",
    "df_feats = pd.concat([\n",
    "    df_feats, \n",
    "    pd.DataFrame([{\"n_features\": 0, 'PCA':0, 'FA':0, 'SVD':0, 'Random':0, 'RFA':0}])\n",
    "]\n",
    "    , axis=0).sort_values('n_features').reset_index(drop=True)"
   ],
   "metadata": {
    "collapsed": false,
    "ExecuteTime": {
     "end_time": "2024-07-05T13:00:46.872901700Z",
     "start_time": "2024-07-05T13:00:46.774425800Z"
    }
   },
   "id": "fe38a6a263fad802"
  },
  {
   "cell_type": "code",
   "execution_count": 311,
   "outputs": [
    {
     "data": {
      "text/plain": "<Figure size 500x300 with 1 Axes>",
      "image/png": "[encoded data removed]"
     },
     "metadata": {},
     "output_type": "display_data"
    }
   ],
   "source": [
    "# Plot the results\n",
    "f, ax = plt.subplots(figsize=(5, 3))\n",
    "sns.lineplot(x='n_features', y='Random', data=df_feats, label='Random', c='black', linestyle='--')\n",
    "sns.lineplot(x='n_features', y='RFA', data=df_feats, label='RFA')\n",
    "sns.lineplot(x='n_features', y='PCA', data=df_feats, label='PCA')\n",
    "sns.lineplot(x='n_features', y='FA', data=df_feats, label='FA')\n",
    "plt.ylim(0.0,1)\n",
    "plt.xlim(0,6)\n",
    "plt.xlabel('Number of Features')\n",
    "plt.ylabel('Accuracy')\n",
    "plt.legend()\n",
    "plt.show()"
   ],
   "metadata": {
    "collapsed": false,
    "ExecuteTime": {
     "end_time": "2024-07-05T13:00:47.333328100Z",
     "start_time": "2024-07-05T13:00:46.813548Z"
    }
   },
   "id": "35d368538b52130"
  },
  {
   "cell_type": "code",
   "execution_count": 312,
   "outputs": [
    {
     "data": {
      "text/plain": "0.0"
     },
     "execution_count": 312,
     "metadata": {},
     "output_type": "execute_result"
    }
   ],
   "source": [
    "# SVD and PCA are the best feature extraction methods\n",
    "(df_feats.PCA - df_feats.SVD).sum()"
   ],
   "metadata": {
    "collapsed": false,
    "ExecuteTime": {
     "end_time": "2024-07-05T13:00:47.410096500Z",
     "start_time": "2024-07-05T13:00:47.329329200Z"
    }
   },
   "id": "f790f4efe109eb2f"
  },
  {
   "cell_type": "code",
   "execution_count": 313,
   "outputs": [
    {
     "data": {
      "text/plain": "           PCA           FA          SVD          RFA\n0    221864_at  220997_s_at    221864_at  205174_s_at\n1  208734_x_at  211494_s_at  208734_x_at    201215_at\n2  200965_s_at  221942_s_at    201745_at      1053_at\n3    201745_at    221910_at  200965_s_at          NaN\n4    212827_at    207639_at    212827_at          NaN\n5    218764_at    219148_at    218764_at          NaN\n6  210088_x_at    216452_at  200733_s_at          NaN",
      "text/html": "<div>\n<style scoped>\n    .dataframe tbody tr th:only-of-type {\n        vertical-align: middle;\n    }\n\n    .dataframe tbody tr th {\n        vertical-align: top;\n    }\n\n    .dataframe thead th {\n        text-align: right;\n    }\n</style>\n<table border=\"1\" class=\"dataframe\">\n  <thead>\n    <tr style=\"text-align: right;\">\n      <th></th>\n      <th>PCA</th>\n      <th>FA</th>\n      <th>SVD</th>\n      <th>RFA</th>\n    </tr>\n  </thead>\n  <tbody>\n    <tr>\n      <th>0</th>\n      <td>221864_at</td>\n      <td>220997_s_at</td>\n      <td>221864_at</td>\n      <td>205174_s_at</td>\n    </tr>\n    <tr>\n      <th>1</th>\n      <td>208734_x_at</td>\n      <td>211494_s_at</td>\n      <td>208734_x_at</td>\n      <td>201215_at</td>\n    </tr>\n    <tr>\n      <th>2</th>\n      <td>200965_s_at</td>\n      <td>221942_s_at</td>\n      <td>201745_at</td>\n      <td>1053_at</td>\n    </tr>\n    <tr>\n      <th>3</th>\n      <td>201745_at</td>\n      <td>221910_at</td>\n      <td>200965_s_at</td>\n      <td>NaN</td>\n    </tr>\n    <tr>\n      <th>4</th>\n      <td>212827_at</td>\n      <td>207639_at</td>\n      <td>212827_at</td>\n      <td>NaN</td>\n    </tr>\n    <tr>\n      <th>5</th>\n      <td>218764_at</td>\n      <td>219148_at</td>\n      <td>218764_at</td>\n      <td>NaN</td>\n    </tr>\n    <tr>\n      <th>6</th>\n      <td>210088_x_at</td>\n      <td>216452_at</td>\n      <td>200733_s_at</td>\n      <td>NaN</td>\n    </tr>\n  </tbody>\n</table>\n</div>"
     },
     "execution_count": 313,
     "metadata": {},
     "output_type": "execute_result"
    }
   ],
   "source": [
    "# 7 most important features ofr each model.\n",
    "df_imp = pd.DataFrame()\n",
    "for name, method in f_extraction.items():\n",
    "    df_imp = pd.concat([df_imp, pd.DataFrame({name: method['features']})], axis=1)\n",
    "best_features = best_features + [np.nan]* (len(df_imp)-len(best_features))\n",
    "df_imp = pd.concat([df_imp, pd.DataFrame({'RFA': best_features})], axis=1)\n",
    "df_imp"
   ],
   "metadata": {
    "collapsed": false,
    "ExecuteTime": {
     "end_time": "2024-07-05T13:00:47.459092200Z",
     "start_time": "2024-07-05T13:00:47.359804500Z"
    }
   },
   "id": "c9cc5529d7105682"
  }
 ],
 "metadata": {
  "kernelspec": {
   "display_name": "Python 3",
   "language": "python",
   "name": "python3"
  },
  "language_info": {
   "codemirror_mode": {
    "name": "ipython",
    "version": 2
   },
   "file_extension": ".py",
   "mimetype": "text/x-python",
   "name": "python",
   "nbconvert_exporter": "python",
   "pygments_lexer": "ipython2",
   "version": "2.7.6"
  }
 },
 "nbformat": 4,
 "nbformat_minor": 5
}
